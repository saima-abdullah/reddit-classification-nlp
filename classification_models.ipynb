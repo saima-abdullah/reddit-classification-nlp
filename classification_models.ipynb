{
 "cells": [
  {
   "cell_type": "code",
   "execution_count": 1,
   "id": "a830b2c6-30a7-4350-b2e4-54e2f3ea10ea",
   "metadata": {},
   "outputs": [],
   "source": [
    "import pandas as pd\n",
    "import numpy as np\n",
    "import matplotlib.pyplot as plt\n",
    "import seaborn as sns\n",
    "import re"
   ]
  },
  {
   "cell_type": "markdown",
   "id": "993d41ac-be2e-4350-bc38-876f9d09fe4d",
   "metadata": {},
   "source": [
    "#### Problem Statement\n",
    "Build a machine learning model to classify Reddit posts from r/technology and r/gadgets into emerging technology categories (e.g., AI, 5G, blockchain, electric vehicles) based on post titles. The goal is to automatically label posts with the technology they are discussing and analyze the distribution of posts across these categories to identify trends.\n",
    "#### Evaluation Criteria\n",
    "Success will be measured by the model’s classification accuracy, aiming for at least 85% accuracy in identifying the correct technology trend. The model will be evaluated using precision, recall, and F1 score. Additionally, we’ll track the number of posts per category to determine which technology trends are most discussed.\n",
    "#### Stake Holders\n",
    "The project is relevant for companies, investors, and tech enthusiasts who want to understand which emerging technologies are being talked about the most and are likely to gain traction. It helps in making data-driven decisions about innovation trends and tech investments.\n"
   ]
  },
  {
   "cell_type": "markdown",
   "id": "ae8be436-0d00-4c3c-a239-b8ddad5cebfe",
   "metadata": {},
   "source": [
    "### Load Dataset"
   ]
  },
  {
   "cell_type": "code",
   "execution_count": 16,
   "id": "df57ad3f-08d1-4bb0-9163-8f4cba77ff4f",
   "metadata": {},
   "outputs": [
    {
     "data": {
      "text/html": [
       "<div>\n",
       "<style scoped>\n",
       "    .dataframe tbody tr th:only-of-type {\n",
       "        vertical-align: middle;\n",
       "    }\n",
       "\n",
       "    .dataframe tbody tr th {\n",
       "        vertical-align: top;\n",
       "    }\n",
       "\n",
       "    .dataframe thead th {\n",
       "        text-align: right;\n",
       "    }\n",
       "</style>\n",
       "<table border=\"1\" class=\"dataframe\">\n",
       "  <thead>\n",
       "    <tr style=\"text-align: right;\">\n",
       "      <th></th>\n",
       "      <th>post_id</th>\n",
       "      <th>title</th>\n",
       "      <th>content</th>\n",
       "      <th>timestamp</th>\n",
       "      <th>subreddit</th>\n",
       "      <th>category</th>\n",
       "      <th>comments</th>\n",
       "    </tr>\n",
       "  </thead>\n",
       "  <tbody>\n",
       "    <tr>\n",
       "      <th>0</th>\n",
       "      <td>1fxjdc0</td>\n",
       "      <td>Pangolin-inspired robot poops tree seeds into ...</td>\n",
       "      <td>NaN</td>\n",
       "      <td>2024-10-06 15:41:34</td>\n",
       "      <td>gadgets</td>\n",
       "      <td>new</td>\n",
       "      <td>Didn’t Randy Marsh fuck a Pangolin after Micke...</td>\n",
       "    </tr>\n",
       "    <tr>\n",
       "      <th>1</th>\n",
       "      <td>1fxbi84</td>\n",
       "      <td>60TB hard drives arriving in 2028 according to...</td>\n",
       "      <td>NaN</td>\n",
       "      <td>2024-10-06 07:58:26</td>\n",
       "      <td>gadgets</td>\n",
       "      <td>new</td>\n",
       "      <td>Gotta get ready for that next Call of Duty | F...</td>\n",
       "    </tr>\n",
       "    <tr>\n",
       "      <th>2</th>\n",
       "      <td>1fwrybc</td>\n",
       "      <td>Intel says its Raptor Lake crashing chip night...</td>\n",
       "      <td>NaN</td>\n",
       "      <td>2024-10-05 14:43:29</td>\n",
       "      <td>gadgets</td>\n",
       "      <td>new</td>\n",
       "      <td>Now release a tool to tell me if my 14700K is ...</td>\n",
       "    </tr>\n",
       "    <tr>\n",
       "      <th>3</th>\n",
       "      <td>1fwjx9e</td>\n",
       "      <td>Leak claims RTX 5090 has 600W TGP, RTX 5080 hi...</td>\n",
       "      <td>NaN</td>\n",
       "      <td>2024-10-05 06:10:55</td>\n",
       "      <td>gadgets</td>\n",
       "      <td>new</td>\n",
       "      <td>Why is this week old rumor being spammed?  Any...</td>\n",
       "    </tr>\n",
       "    <tr>\n",
       "      <th>4</th>\n",
       "      <td>1fwh2bu</td>\n",
       "      <td>Insecure Deebot robot vacuums collect photos a...</td>\n",
       "      <td>NaN</td>\n",
       "      <td>2024-10-05 03:09:58</td>\n",
       "      <td>gadgets</td>\n",
       "      <td>new</td>\n",
       "      <td>Maybe they need some a good pep talk to boost ...</td>\n",
       "    </tr>\n",
       "  </tbody>\n",
       "</table>\n",
       "</div>"
      ],
      "text/plain": [
       "   post_id                                              title content  \\\n",
       "0  1fxjdc0  Pangolin-inspired robot poops tree seeds into ...     NaN   \n",
       "1  1fxbi84  60TB hard drives arriving in 2028 according to...     NaN   \n",
       "2  1fwrybc  Intel says its Raptor Lake crashing chip night...     NaN   \n",
       "3  1fwjx9e  Leak claims RTX 5090 has 600W TGP, RTX 5080 hi...     NaN   \n",
       "4  1fwh2bu  Insecure Deebot robot vacuums collect photos a...     NaN   \n",
       "\n",
       "             timestamp subreddit category  \\\n",
       "0  2024-10-06 15:41:34   gadgets      new   \n",
       "1  2024-10-06 07:58:26   gadgets      new   \n",
       "2  2024-10-05 14:43:29   gadgets      new   \n",
       "3  2024-10-05 06:10:55   gadgets      new   \n",
       "4  2024-10-05 03:09:58   gadgets      new   \n",
       "\n",
       "                                            comments  \n",
       "0  Didn’t Randy Marsh fuck a Pangolin after Micke...  \n",
       "1  Gotta get ready for that next Call of Duty | F...  \n",
       "2  Now release a tool to tell me if my 14700K is ...  \n",
       "3  Why is this week old rumor being spammed?  Any...  \n",
       "4  Maybe they need some a good pep talk to boost ...  "
      ]
     },
     "execution_count": 16,
     "metadata": {},
     "output_type": "execute_result"
    }
   ],
   "source": [
    "data = pd.read_csv('./data/reddit_posts.csv')\n",
    "data.head()"
   ]
  },
  {
   "cell_type": "code",
   "execution_count": 20,
   "id": "0bd865ed-e2af-4e1c-b5ab-3f2d76382937",
   "metadata": {},
   "outputs": [
    {
     "data": {
      "text/plain": [
       "(11890, 7)"
      ]
     },
     "execution_count": 20,
     "metadata": {},
     "output_type": "execute_result"
    }
   ],
   "source": [
    "data.shape"
   ]
  },
  {
   "cell_type": "code",
   "execution_count": 391,
   "id": "c6715442-0198-48fc-b4e6-d9dbb0451458",
   "metadata": {},
   "outputs": [
    {
     "data": {
      "text/plain": [
       "post_id          0\n",
       "title            0\n",
       "content      11789\n",
       "timestamp        0\n",
       "subreddit        0\n",
       "category         0\n",
       "comments      1990\n",
       "dtype: int64"
      ]
     },
     "execution_count": 391,
     "metadata": {},
     "output_type": "execute_result"
    }
   ],
   "source": [
    "data.isna().sum()"
   ]
  },
  {
   "cell_type": "code",
   "execution_count": 393,
   "id": "26a0ed02-5e65-4479-a7d5-ac14731b969d",
   "metadata": {},
   "outputs": [
    {
     "name": "stdout",
     "output_type": "stream",
     "text": [
      "<class 'pandas.core.frame.DataFrame'>\n",
      "RangeIndex: 11890 entries, 0 to 11889\n",
      "Data columns (total 7 columns):\n",
      " #   Column     Non-Null Count  Dtype \n",
      "---  ------     --------------  ----- \n",
      " 0   post_id    11890 non-null  object\n",
      " 1   title      11890 non-null  object\n",
      " 2   content    101 non-null    object\n",
      " 3   timestamp  11890 non-null  object\n",
      " 4   subreddit  11890 non-null  object\n",
      " 5   category   11890 non-null  object\n",
      " 6   comments   9900 non-null   object\n",
      "dtypes: object(7)\n",
      "memory usage: 650.4+ KB\n"
     ]
    }
   ],
   "source": [
    "data.info()"
   ]
  },
  {
   "cell_type": "code",
   "execution_count": 395,
   "id": "d8a52ef6-848d-4e16-9047-a32bd55b322c",
   "metadata": {},
   "outputs": [
    {
     "data": {
      "text/plain": [
       "subreddit\n",
       "technology    6901\n",
       "gadgets       4989\n",
       "Name: count, dtype: int64"
      ]
     },
     "execution_count": 395,
     "metadata": {},
     "output_type": "execute_result"
    }
   ],
   "source": [
    "data['subreddit'].value_counts()"
   ]
  },
  {
   "cell_type": "code",
   "execution_count": 397,
   "id": "a4f2a9f0-c560-4532-bce6-b2a41535cec2",
   "metadata": {
    "scrolled": true
   },
   "outputs": [
    {
     "data": {
      "text/plain": [
       "Text(0, 0.5, 'Frequency')"
      ]
     },
     "execution_count": 397,
     "metadata": {},
     "output_type": "execute_result"
    },
    {
     "data": {
      "image/png": "[encoded data removed]",
      "text/plain": [
       "<Figure size 640x480 with 1 Axes>"
      ]
     },
     "metadata": {},
     "output_type": "display_data"
    }
   ],
   "source": [
    "data['subreddit'].hist()\n",
    "plt.title('Distribution of Subreddits Data')\n",
    "plt.xlabel('Name of Subreddits')\n",
    "plt.ylabel('Frequency')"
   ]
  },
  {
   "cell_type": "code",
   "execution_count": 401,
   "id": "a2cbdc25-e0f3-4d46-b4bd-38265e4d957e",
   "metadata": {},
   "outputs": [
    {
     "data": {
      "text/plain": [
       "4951"
      ]
     },
     "execution_count": 401,
     "metadata": {},
     "output_type": "execute_result"
    }
   ],
   "source": [
    "data['post_id'].nunique()\n"
   ]
  },
  {
   "cell_type": "code",
   "execution_count": 403,
   "id": "363f294c-ebc4-42a2-9c58-b0c3a6926853",
   "metadata": {},
   "outputs": [],
   "source": [
    "data1 = data.drop_duplicates(subset=['post_id'])"
   ]
  },
  {
   "cell_type": "code",
   "execution_count": 417,
   "id": "51855543-318e-4859-b034-a528601efcb0",
   "metadata": {
    "scrolled": true
   },
   "outputs": [
    {
     "data": {
      "text/plain": [
       "subreddit\n",
       "gadgets       2586\n",
       "technology    2365\n",
       "Name: count, dtype: int64"
      ]
     },
     "execution_count": 417,
     "metadata": {},
     "output_type": "execute_result"
    }
   ],
   "source": [
    "data1['subreddit'].value_counts()"
   ]
  },
  {
   "cell_type": "code",
   "execution_count": 405,
   "id": "6491e796-26da-439e-bc52-ef6d16eb2dc8",
   "metadata": {},
   "outputs": [
    {
     "data": {
      "text/html": [
       "<div>\n",
       "<style scoped>\n",
       "    .dataframe tbody tr th:only-of-type {\n",
       "        vertical-align: middle;\n",
       "    }\n",
       "\n",
       "    .dataframe tbody tr th {\n",
       "        vertical-align: top;\n",
       "    }\n",
       "\n",
       "    .dataframe thead th {\n",
       "        text-align: right;\n",
       "    }\n",
       "</style>\n",
       "<table border=\"1\" class=\"dataframe\">\n",
       "  <thead>\n",
       "    <tr style=\"text-align: right;\">\n",
       "      <th></th>\n",
       "      <th>post_id</th>\n",
       "      <th>title</th>\n",
       "      <th>content</th>\n",
       "      <th>timestamp</th>\n",
       "      <th>subreddit</th>\n",
       "      <th>category</th>\n",
       "      <th>comments</th>\n",
       "    </tr>\n",
       "  </thead>\n",
       "  <tbody>\n",
       "    <tr>\n",
       "      <th>0</th>\n",
       "      <td>1fxjdc0</td>\n",
       "      <td>Pangolin-inspired robot poops tree seeds into ...</td>\n",
       "      <td>NaN</td>\n",
       "      <td>2024-10-06 15:41:34</td>\n",
       "      <td>gadgets</td>\n",
       "      <td>new</td>\n",
       "      <td>Didn’t Randy Marsh fuck a Pangolin after Micke...</td>\n",
       "    </tr>\n",
       "    <tr>\n",
       "      <th>1</th>\n",
       "      <td>1fxbi84</td>\n",
       "      <td>60TB hard drives arriving in 2028 according to...</td>\n",
       "      <td>NaN</td>\n",
       "      <td>2024-10-06 07:58:26</td>\n",
       "      <td>gadgets</td>\n",
       "      <td>new</td>\n",
       "      <td>Gotta get ready for that next Call of Duty | F...</td>\n",
       "    </tr>\n",
       "    <tr>\n",
       "      <th>2</th>\n",
       "      <td>1fwrybc</td>\n",
       "      <td>Intel says its Raptor Lake crashing chip night...</td>\n",
       "      <td>NaN</td>\n",
       "      <td>2024-10-05 14:43:29</td>\n",
       "      <td>gadgets</td>\n",
       "      <td>new</td>\n",
       "      <td>Now release a tool to tell me if my 14700K is ...</td>\n",
       "    </tr>\n",
       "    <tr>\n",
       "      <th>3</th>\n",
       "      <td>1fwjx9e</td>\n",
       "      <td>Leak claims RTX 5090 has 600W TGP, RTX 5080 hi...</td>\n",
       "      <td>NaN</td>\n",
       "      <td>2024-10-05 06:10:55</td>\n",
       "      <td>gadgets</td>\n",
       "      <td>new</td>\n",
       "      <td>Why is this week old rumor being spammed?  Any...</td>\n",
       "    </tr>\n",
       "    <tr>\n",
       "      <th>4</th>\n",
       "      <td>1fwh2bu</td>\n",
       "      <td>Insecure Deebot robot vacuums collect photos a...</td>\n",
       "      <td>NaN</td>\n",
       "      <td>2024-10-05 03:09:58</td>\n",
       "      <td>gadgets</td>\n",
       "      <td>new</td>\n",
       "      <td>Maybe they need some a good pep talk to boost ...</td>\n",
       "    </tr>\n",
       "  </tbody>\n",
       "</table>\n",
       "</div>"
      ],
      "text/plain": [
       "   post_id                                              title content  \\\n",
       "0  1fxjdc0  Pangolin-inspired robot poops tree seeds into ...     NaN   \n",
       "1  1fxbi84  60TB hard drives arriving in 2028 according to...     NaN   \n",
       "2  1fwrybc  Intel says its Raptor Lake crashing chip night...     NaN   \n",
       "3  1fwjx9e  Leak claims RTX 5090 has 600W TGP, RTX 5080 hi...     NaN   \n",
       "4  1fwh2bu  Insecure Deebot robot vacuums collect photos a...     NaN   \n",
       "\n",
       "             timestamp subreddit category  \\\n",
       "0  2024-10-06 15:41:34   gadgets      new   \n",
       "1  2024-10-06 07:58:26   gadgets      new   \n",
       "2  2024-10-05 14:43:29   gadgets      new   \n",
       "3  2024-10-05 06:10:55   gadgets      new   \n",
       "4  2024-10-05 03:09:58   gadgets      new   \n",
       "\n",
       "                                            comments  \n",
       "0  Didn’t Randy Marsh fuck a Pangolin after Micke...  \n",
       "1  Gotta get ready for that next Call of Duty | F...  \n",
       "2  Now release a tool to tell me if my 14700K is ...  \n",
       "3  Why is this week old rumor being spammed?  Any...  \n",
       "4  Maybe they need some a good pep talk to boost ...  "
      ]
     },
     "execution_count": 405,
     "metadata": {},
     "output_type": "execute_result"
    }
   ],
   "source": [
    "data1.head()"
   ]
  },
  {
   "cell_type": "markdown",
   "id": "51f8b4b8-a96b-4abb-9052-94d3043fb89b",
   "metadata": {},
   "source": [
    "#### Define Emerging Technology Trends"
   ]
  },
  {
   "cell_type": "code",
   "execution_count": 407,
   "id": "31f62a32-d4ed-489e-ae51-828afc897313",
   "metadata": {},
   "outputs": [],
   "source": [
    "#these categories will serve as labels for titles\n",
    "tech_keywords = {\n",
    "'AI': ['artificial intelligence', 'machine learning', 'deep learning', 'neural network', 'ai', 'natural language processing', 'robotics', 'automation', 'artificial neural network', 'data science', 'predictive analytics'],\n",
    "    \n",
    "'Blockchain': ['blockchain', 'cryptocurrency', 'bitcoin', 'ethereum', 'smart contracts', 'decentralized', 'defi', 'nft', 'web3'],\n",
    "    \n",
    "'5G': ['5g', 'next-gen network', 'fifth generation', 'latency', 'mmwave', 'telecom', 'network infrastructure'],\n",
    "    \n",
    "'Electric Vehicles': ['electric vehicle', 'ev', 'tesla', 'battery', 'autonomous driving', 'self-driving', 'renewable energy','e-bike','electric bike'],\n",
    "    \n",
    "'Wearable Tech': ['wearables', 'smartwatch', 'fitness tracker', 'apple watch', 'fitbit', 'ar glasses', 'vr headset', 'virtual reality','headphone', 'earbuds'],\n",
    "    \n",
    "'Quantum Computing': ['quantum computing', 'qubits', 'quantum supremacy', 'superposition', 'entanglement'],\n",
    "    \n",
    "'Cybersecurity': ['cybersecurity', 'data breach', 'ransomware', 'malware', 'encryption', 'vulnerability', 'threat detection'],\n",
    "    \n",
    "'IoT': ['iot', 'connected devices', 'smart devices', 'sensor network', 'smart home', 'industrial iot'],\n",
    "    \n",
    "'Cloud Computing': ['cloud', 'aws', 'azure', 'google cloud', 'serverless', 'virtualization', 'cloud storage'],\n",
    "    \n",
    "'AR/VR': ['augmented reality', 'virtual reality', 'ar', 'vr', 'immersive experience', 'headset', 'oculus', 'vision pro', 'meta quest', 'htc vive', 'playstation vr', 'valve index', \n",
    " 'immersive experience', 'virtual reality', 'augmented reality', 'mixed reality', 'spatial computing','magic leap', 'hololens', 'vr headset', 'ar glasses'\n",
    "],\n",
    "    \n",
    "'Chip Technologies': ['chip', 'semiconductor', 'processor', 'microchip', 'integrated circuit', 'intel', 'amd', 'nvidia', 'arm', 'tsmc', 'qualcomm', 'fabless', 'silicon', 'wafer', 'transistor', 'chipset', 'cpu', 'gpu', 'fpga', 'nanometer technology', '3nm', '5nm', '7nm', 'foundry'],\n",
    "\n",
    "'Smart Devices' : ['smartphone', 'tablet', 'smart speaker', 'smart display', 'smart home', 'smart thermostat', 'smart light', 'smart lock', 'smart camera', 'voice assistant', 'alexa', 'google assistant', 'siri', 'nest', 'ring', 'smart refrigerator', 'smart tv', 'home automation', 'connected home', 'smart device','iphone', 'samsung', 'galaxy', 'pixel', 'oneplus', 'huawei', 'xiaomi','apple','google','alexa'\n",
    "],\n",
    "\n",
    "'Robotics' :[\n",
    "    'robot', 'robotic', 'autonomous machines', 'drone', 'mechanical system', \n",
    "    'automation', 'industrial robot', 'humanoid', 'self-driving', 'drone technology','drone'\n",
    "],\n",
    "'Gaming Consoles':[\n",
    "    'playstation', 'xbox', 'nintendo switch', 'steam deck', 'rog ally', \n",
    "    'gaming console', 'handheld console', 'game controller', 'vr gaming', 'console gaming','game','retro gaming'\n",
    "\n",
    "]\n",
    "\n",
    "}"
   ]
  },
  {
   "cell_type": "code",
   "execution_count": 409,
   "id": "fc7afa5a-52f5-4b38-b806-29bccca4913b",
   "metadata": {},
   "outputs": [],
   "source": [
    "import spacy\n",
    "import re\n",
    "\n",
    "# Load spacy model for lemmatization\n",
    "nlp = spacy.load(\"en_core_web_md\")\n",
    "\n",
    "def label_data(text):\n",
    "    # Lemmatize the input text\n",
    "    doc = nlp(text.lower())\n",
    "    lemmatized_text = ' '.join([token.lemma_ for token in doc])\n",
    "    \n",
    "    # Loop through tech keywords and apply partial matching\n",
    "    for tech, keywords in tech_keywords.items():\n",
    "        for keyword in keywords:\n",
    "            # Use regex partial matching, allowing variations\n",
    "            pattern = f'{re.escape(keyword)}'\n",
    "            if re.search(pattern, lemmatized_text):\n",
    "                return tech\n",
    "    return 'Other'\n"
   ]
  },
  {
   "cell_type": "code",
   "execution_count": 411,
   "id": "9b40f296-f4b5-43dd-9b85-8f8a42e328e5",
   "metadata": {},
   "outputs": [
    {
     "data": {
      "text/html": [
       "<div>\n",
       "<style scoped>\n",
       "    .dataframe tbody tr th:only-of-type {\n",
       "        vertical-align: middle;\n",
       "    }\n",
       "\n",
       "    .dataframe tbody tr th {\n",
       "        vertical-align: top;\n",
       "    }\n",
       "\n",
       "    .dataframe thead th {\n",
       "        text-align: right;\n",
       "    }\n",
       "</style>\n",
       "<table border=\"1\" class=\"dataframe\">\n",
       "  <thead>\n",
       "    <tr style=\"text-align: right;\">\n",
       "      <th></th>\n",
       "      <th>post_id</th>\n",
       "      <th>title</th>\n",
       "      <th>content</th>\n",
       "      <th>timestamp</th>\n",
       "      <th>subreddit</th>\n",
       "      <th>category</th>\n",
       "      <th>comments</th>\n",
       "    </tr>\n",
       "  </thead>\n",
       "  <tbody>\n",
       "    <tr>\n",
       "      <th>0</th>\n",
       "      <td>1fxjdc0</td>\n",
       "      <td>Pangolin-inspired robot poops tree seeds into ...</td>\n",
       "      <td>NaN</td>\n",
       "      <td>2024-10-06 15:41:34</td>\n",
       "      <td>gadgets</td>\n",
       "      <td>new</td>\n",
       "      <td>Didn’t Randy Marsh fuck a Pangolin after Micke...</td>\n",
       "    </tr>\n",
       "    <tr>\n",
       "      <th>1</th>\n",
       "      <td>1fxbi84</td>\n",
       "      <td>60TB hard drives arriving in 2028 according to...</td>\n",
       "      <td>NaN</td>\n",
       "      <td>2024-10-06 07:58:26</td>\n",
       "      <td>gadgets</td>\n",
       "      <td>new</td>\n",
       "      <td>Gotta get ready for that next Call of Duty | F...</td>\n",
       "    </tr>\n",
       "    <tr>\n",
       "      <th>2</th>\n",
       "      <td>1fwrybc</td>\n",
       "      <td>Intel says its Raptor Lake crashing chip night...</td>\n",
       "      <td>NaN</td>\n",
       "      <td>2024-10-05 14:43:29</td>\n",
       "      <td>gadgets</td>\n",
       "      <td>new</td>\n",
       "      <td>Now release a tool to tell me if my 14700K is ...</td>\n",
       "    </tr>\n",
       "    <tr>\n",
       "      <th>3</th>\n",
       "      <td>1fwjx9e</td>\n",
       "      <td>Leak claims RTX 5090 has 600W TGP, RTX 5080 hi...</td>\n",
       "      <td>NaN</td>\n",
       "      <td>2024-10-05 06:10:55</td>\n",
       "      <td>gadgets</td>\n",
       "      <td>new</td>\n",
       "      <td>Why is this week old rumor being spammed?  Any...</td>\n",
       "    </tr>\n",
       "    <tr>\n",
       "      <th>4</th>\n",
       "      <td>1fwh2bu</td>\n",
       "      <td>Insecure Deebot robot vacuums collect photos a...</td>\n",
       "      <td>NaN</td>\n",
       "      <td>2024-10-05 03:09:58</td>\n",
       "      <td>gadgets</td>\n",
       "      <td>new</td>\n",
       "      <td>Maybe they need some a good pep talk to boost ...</td>\n",
       "    </tr>\n",
       "  </tbody>\n",
       "</table>\n",
       "</div>"
      ],
      "text/plain": [
       "   post_id                                              title content  \\\n",
       "0  1fxjdc0  Pangolin-inspired robot poops tree seeds into ...     NaN   \n",
       "1  1fxbi84  60TB hard drives arriving in 2028 according to...     NaN   \n",
       "2  1fwrybc  Intel says its Raptor Lake crashing chip night...     NaN   \n",
       "3  1fwjx9e  Leak claims RTX 5090 has 600W TGP, RTX 5080 hi...     NaN   \n",
       "4  1fwh2bu  Insecure Deebot robot vacuums collect photos a...     NaN   \n",
       "\n",
       "             timestamp subreddit category  \\\n",
       "0  2024-10-06 15:41:34   gadgets      new   \n",
       "1  2024-10-06 07:58:26   gadgets      new   \n",
       "2  2024-10-05 14:43:29   gadgets      new   \n",
       "3  2024-10-05 06:10:55   gadgets      new   \n",
       "4  2024-10-05 03:09:58   gadgets      new   \n",
       "\n",
       "                                            comments  \n",
       "0  Didn’t Randy Marsh fuck a Pangolin after Micke...  \n",
       "1  Gotta get ready for that next Call of Duty | F...  \n",
       "2  Now release a tool to tell me if my 14700K is ...  \n",
       "3  Why is this week old rumor being spammed?  Any...  \n",
       "4  Maybe they need some a good pep talk to boost ...  "
      ]
     },
     "execution_count": 411,
     "metadata": {},
     "output_type": "execute_result"
    }
   ],
   "source": [
    "data1.head()"
   ]
  },
  {
   "cell_type": "code",
   "execution_count": null,
   "id": "6c54a04c-e4ee-4b20-beb1-f07dc0b86924",
   "metadata": {},
   "outputs": [],
   "source": []
  },
  {
   "cell_type": "code",
   "execution_count": 413,
   "id": "f980b4d0-8d47-474c-ad92-06728e2a7dd1",
   "metadata": {},
   "outputs": [
    {
     "name": "stderr",
     "output_type": "stream",
     "text": [
      "/var/folders/cm/33j13stn00579z5k7swhdxcw0000gp/T/ipykernel_58835/3308407551.py:1: SettingWithCopyWarning: \n",
      "A value is trying to be set on a copy of a slice from a DataFrame.\n",
      "Try using .loc[row_indexer,col_indexer] = value instead\n",
      "\n",
      "See the caveats in the documentation: https://pandas.pydata.org/pandas-docs/stable/user_guide/indexing.html#returning-a-view-versus-a-copy\n",
      "  data1['label'] = data1['title'].apply(label_data)\n"
     ]
    }
   ],
   "source": [
    "data1['label'] = data1['title'].apply(label_data)"
   ]
  },
  {
   "cell_type": "code",
   "execution_count": 414,
   "id": "8f5cd367-e474-45b3-bf2f-a26e48f6e072",
   "metadata": {
    "scrolled": true
   },
   "outputs": [
    {
     "data": {
      "text/plain": [
       "(4951, 8)"
      ]
     },
     "execution_count": 414,
     "metadata": {},
     "output_type": "execute_result"
    }
   ],
   "source": [
    "data1.shape"
   ]
  },
  {
   "cell_type": "code",
   "execution_count": 415,
   "id": "7376ba5e-5278-49bd-89de-7b2c2474eb91",
   "metadata": {},
   "outputs": [
    {
     "data": {
      "text/plain": [
       "label\n",
       "AI                   1265\n",
       "AR/VR                1178\n",
       "Other                1065\n",
       "Electric Vehicles     678\n",
       "Smart Devices         388\n",
       "Chip Technologies     103\n",
       "Wearable Tech          90\n",
       "Robotics               61\n",
       "Gaming Consoles        61\n",
       "Cloud Computing        25\n",
       "Cybersecurity          15\n",
       "5G                      9\n",
       "IoT                     7\n",
       "Blockchain              5\n",
       "Quantum Computing       1\n",
       "Name: count, dtype: int64"
      ]
     },
     "execution_count": 415,
     "metadata": {},
     "output_type": "execute_result"
    }
   ],
   "source": [
    "data1['label'].value_counts()"
   ]
  },
  {
   "cell_type": "code",
   "execution_count": 351,
   "id": "11dfeb78-1e00-48d0-ac33-0455a5db288a",
   "metadata": {},
   "outputs": [
    {
     "data": {
      "text/html": [
       "<div>\n",
       "<style scoped>\n",
       "    .dataframe tbody tr th:only-of-type {\n",
       "        vertical-align: middle;\n",
       "    }\n",
       "\n",
       "    .dataframe tbody tr th {\n",
       "        vertical-align: top;\n",
       "    }\n",
       "\n",
       "    .dataframe thead th {\n",
       "        text-align: right;\n",
       "    }\n",
       "</style>\n",
       "<table border=\"1\" class=\"dataframe\">\n",
       "  <thead>\n",
       "    <tr style=\"text-align: right;\">\n",
       "      <th></th>\n",
       "      <th>title</th>\n",
       "      <th>content</th>\n",
       "      <th>timestamp</th>\n",
       "      <th>subreddit</th>\n",
       "      <th>category</th>\n",
       "      <th>comments</th>\n",
       "      <th>label</th>\n",
       "    </tr>\n",
       "  </thead>\n",
       "  <tbody>\n",
       "    <tr>\n",
       "      <th>1</th>\n",
       "      <td>Collapse of national security elites’ cyber fi...</td>\n",
       "      <td>NaN</td>\n",
       "      <td>2024-10-06 04:46:03</td>\n",
       "      <td>technology</td>\n",
       "      <td>new</td>\n",
       "      <td>“The future was once dazzling for IronNet.\\n\\n...</td>\n",
       "      <td>Other</td>\n",
       "    </tr>\n",
       "    <tr>\n",
       "      <th>2</th>\n",
       "      <td>Teens already on social media could be exempt ...</td>\n",
       "      <td>NaN</td>\n",
       "      <td>2024-10-06 03:55:20</td>\n",
       "      <td>technology</td>\n",
       "      <td>new</td>\n",
       "      <td>NaN</td>\n",
       "      <td>Other</td>\n",
       "    </tr>\n",
       "    <tr>\n",
       "      <th>12</th>\n",
       "      <td>Amazon Layoffs: Tech Firm To Cut 14,000 Manage...</td>\n",
       "      <td>NaN</td>\n",
       "      <td>2024-10-05 18:01:52</td>\n",
       "      <td>technology</td>\n",
       "      <td>new</td>\n",
       "      <td>Man, Amazon’s approach is going to kill it. No...</td>\n",
       "      <td>Other</td>\n",
       "    </tr>\n",
       "    <tr>\n",
       "      <th>14</th>\n",
       "      <td>X reportedly paid its Brazil fines to the wron...</td>\n",
       "      <td>NaN</td>\n",
       "      <td>2024-10-05 17:34:13</td>\n",
       "      <td>technology</td>\n",
       "      <td>new</td>\n",
       "      <td>They really need better attorneys, they even m...</td>\n",
       "      <td>Other</td>\n",
       "    </tr>\n",
       "    <tr>\n",
       "      <th>22</th>\n",
       "      <td>Facebook launches a Gen Z-focused redesign</td>\n",
       "      <td>NaN</td>\n",
       "      <td>2024-10-05 13:43:11</td>\n",
       "      <td>technology</td>\n",
       "      <td>new</td>\n",
       "      <td>Facebook is 90% AI generated content being lik...</td>\n",
       "      <td>Other</td>\n",
       "    </tr>\n",
       "    <tr>\n",
       "      <th>...</th>\n",
       "      <td>...</td>\n",
       "      <td>...</td>\n",
       "      <td>...</td>\n",
       "      <td>...</td>\n",
       "      <td>...</td>\n",
       "      <td>...</td>\n",
       "      <td>...</td>\n",
       "    </tr>\n",
       "    <tr>\n",
       "      <th>3668</th>\n",
       "      <td>Cybertruck Owner’s Manual Says Its Hitch Is On...</td>\n",
       "      <td>NaN</td>\n",
       "      <td>2024-09-20 04:18:53</td>\n",
       "      <td>technology</td>\n",
       "      <td>new</td>\n",
       "      <td>It’s been posted a bunch of times elsewhere th...</td>\n",
       "      <td>Other</td>\n",
       "    </tr>\n",
       "    <tr>\n",
       "      <th>3669</th>\n",
       "      <td>Microsoft releases a new Windows app called Wi...</td>\n",
       "      <td>NaN</td>\n",
       "      <td>2024-09-20 03:53:20</td>\n",
       "      <td>technology</td>\n",
       "      <td>new</td>\n",
       "      <td>I often wonder which idiot at microsoft is res...</td>\n",
       "      <td>Other</td>\n",
       "    </tr>\n",
       "    <tr>\n",
       "      <th>3670</th>\n",
       "      <td>Social media and online video firms are conduc...</td>\n",
       "      <td>NaN</td>\n",
       "      <td>2024-09-20 03:43:01</td>\n",
       "      <td>technology</td>\n",
       "      <td>new</td>\n",
       "      <td>which  might have been a shocking headline in ...</td>\n",
       "      <td>Other</td>\n",
       "    </tr>\n",
       "    <tr>\n",
       "      <th>3679</th>\n",
       "      <td>FTC Says Social Media Platforms Engage in 'Vas...</td>\n",
       "      <td>NaN</td>\n",
       "      <td>2024-09-19 22:50:17</td>\n",
       "      <td>technology</td>\n",
       "      <td>new</td>\n",
       "      <td>\"The FTC issued a warning letter back in late ...</td>\n",
       "      <td>Other</td>\n",
       "    </tr>\n",
       "    <tr>\n",
       "      <th>3681</th>\n",
       "      <td>YouTube rollouts Communities to allow creators...</td>\n",
       "      <td>NaN</td>\n",
       "      <td>2024-09-19 21:44:23</td>\n",
       "      <td>technology</td>\n",
       "      <td>new</td>\n",
       "      <td>Every site is being turned into social media 🤦...</td>\n",
       "      <td>Other</td>\n",
       "    </tr>\n",
       "  </tbody>\n",
       "</table>\n",
       "<p>321 rows × 7 columns</p>\n",
       "</div>"
      ],
      "text/plain": [
       "                                                  title content  \\\n",
       "1     Collapse of national security elites’ cyber fi...     NaN   \n",
       "2     Teens already on social media could be exempt ...     NaN   \n",
       "12    Amazon Layoffs: Tech Firm To Cut 14,000 Manage...     NaN   \n",
       "14    X reportedly paid its Brazil fines to the wron...     NaN   \n",
       "22           Facebook launches a Gen Z-focused redesign     NaN   \n",
       "...                                                 ...     ...   \n",
       "3668  Cybertruck Owner’s Manual Says Its Hitch Is On...     NaN   \n",
       "3669  Microsoft releases a new Windows app called Wi...     NaN   \n",
       "3670  Social media and online video firms are conduc...     NaN   \n",
       "3679  FTC Says Social Media Platforms Engage in 'Vas...     NaN   \n",
       "3681  YouTube rollouts Communities to allow creators...     NaN   \n",
       "\n",
       "                timestamp   subreddit category  \\\n",
       "1     2024-10-06 04:46:03  technology      new   \n",
       "2     2024-10-06 03:55:20  technology      new   \n",
       "12    2024-10-05 18:01:52  technology      new   \n",
       "14    2024-10-05 17:34:13  technology      new   \n",
       "22    2024-10-05 13:43:11  technology      new   \n",
       "...                   ...         ...      ...   \n",
       "3668  2024-09-20 04:18:53  technology      new   \n",
       "3669  2024-09-20 03:53:20  technology      new   \n",
       "3670  2024-09-20 03:43:01  technology      new   \n",
       "3679  2024-09-19 22:50:17  technology      new   \n",
       "3681  2024-09-19 21:44:23  technology      new   \n",
       "\n",
       "                                               comments  label  \n",
       "1     “The future was once dazzling for IronNet.\\n\\n...  Other  \n",
       "2                                                   NaN  Other  \n",
       "12    Man, Amazon’s approach is going to kill it. No...  Other  \n",
       "14    They really need better attorneys, they even m...  Other  \n",
       "22    Facebook is 90% AI generated content being lik...  Other  \n",
       "...                                                 ...    ...  \n",
       "3668  It’s been posted a bunch of times elsewhere th...  Other  \n",
       "3669  I often wonder which idiot at microsoft is res...  Other  \n",
       "3670  which  might have been a shocking headline in ...  Other  \n",
       "3679  \"The FTC issued a warning letter back in late ...  Other  \n",
       "3681  Every site is being turned into social media 🤦...  Other  \n",
       "\n",
       "[321 rows x 7 columns]"
      ]
     },
     "execution_count": 351,
     "metadata": {},
     "output_type": "execute_result"
    }
   ],
   "source": [
    "# Filter the DataFrame to get only the posts labeled as 'Other'\n",
    "other_posts = data1[data1['label'] == 'Other']\n",
    "other_posts"
   ]
  },
  {
   "cell_type": "markdown",
   "id": "c286eabb-2fda-4a00-a109-ba3a17f12f72",
   "metadata": {},
   "source": [
    "### Labeling Data  "
   ]
  },
  {
   "cell_type": "code",
   "execution_count": null,
   "id": "9ea1e766-abc3-4a64-9ef2-95bbcc175d39",
   "metadata": {},
   "outputs": [],
   "source": []
  }
 ],
 "metadata": {
  "kernelspec": {
   "display_name": "Python 3 (ipykernel)",
   "language": "python",
   "name": "python3"
  },
  "language_info": {
   "codemirror_mode": {
    "name": "ipython",
    "version": 3
   },
   "file_extension": ".py",
   "mimetype": "text/x-python",
   "name": "python",
   "nbconvert_exporter": "python",
   "pygments_lexer": "ipython3",
   "version": "3.11.9"
  }
 },
 "nbformat": 4,
 "nbformat_minor": 5
}
