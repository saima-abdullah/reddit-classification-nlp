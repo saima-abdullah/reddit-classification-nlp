{
 "cells": [
  {
   "cell_type": "code",
   "execution_count": 2,
   "id": "db33d2d0-388b-46ce-806e-d67afa569295",
   "metadata": {},
   "outputs": [],
   "source": [
    "import pandas as pd\n",
    "import numpy as np\n",
    "import matplotlib.pyplot as plt\n",
    "import seaborn as sns\n",
    "import spacy\n",
    "from spacy.lang.en.stop_words import STOP_WORDS\n",
    "import html\n",
    "import re\n",
    "from sklearn.feature_extraction.text import CountVectorizer"
   ]
  },
  {
   "cell_type": "code",
   "execution_count": 3,
   "id": "44233996-4700-47e0-b82c-9b32e324e56f",
   "metadata": {},
   "outputs": [
    {
     "name": "stdout",
     "output_type": "stream",
     "text": [
      "Collecting en-core-web-md==3.7.1\n",
      "  Downloading https://github.com/explosion/spacy-models/releases/download/en_core_web_md-3.7.1/en_core_web_md-3.7.1-py3-none-any.whl (42.8 MB)\n",
      "\u001b[2K     \u001b[90m━━━━━━━━━━━━━━━━━━━━━━━━━━━━━━━━━━━━━━━━\u001b[0m \u001b[32m42.8/42.8 MB\u001b[0m \u001b[31m13.9 MB/s\u001b[0m eta \u001b[36m0:00:00\u001b[0ma \u001b[36m0:00:01\u001b[0m\n",
      "\u001b[?25hRequirement already satisfied: spacy<3.8.0,>=3.7.2 in /opt/anaconda3/lib/python3.11/site-packages (from en-core-web-md==3.7.1) (3.7.5)\n",
      "Requirement already satisfied: spacy-legacy<3.1.0,>=3.0.11 in /opt/anaconda3/lib/python3.11/site-packages (from spacy<3.8.0,>=3.7.2->en-core-web-md==3.7.1) (3.0.12)\n",
      "Requirement already satisfied: spacy-loggers<2.0.0,>=1.0.0 in /opt/anaconda3/lib/python3.11/site-packages (from spacy<3.8.0,>=3.7.2->en-core-web-md==3.7.1) (1.0.4)\n",
      "Requirement already satisfied: murmurhash<1.1.0,>=0.28.0 in /opt/anaconda3/lib/python3.11/site-packages (from spacy<3.8.0,>=3.7.2->en-core-web-md==3.7.1) (1.0.7)\n",
      "Requirement already satisfied: cymem<2.1.0,>=2.0.2 in /opt/anaconda3/lib/python3.11/site-packages (from spacy<3.8.0,>=3.7.2->en-core-web-md==3.7.1) (2.0.6)\n",
      "Requirement already satisfied: preshed<3.1.0,>=3.0.2 in /opt/anaconda3/lib/python3.11/site-packages (from spacy<3.8.0,>=3.7.2->en-core-web-md==3.7.1) (3.0.6)\n",
      "Requirement already satisfied: thinc<8.3.0,>=8.2.2 in /opt/anaconda3/lib/python3.11/site-packages (from spacy<3.8.0,>=3.7.2->en-core-web-md==3.7.1) (8.2.5)\n",
      "Requirement already satisfied: wasabi<1.2.0,>=0.9.1 in /opt/anaconda3/lib/python3.11/site-packages (from spacy<3.8.0,>=3.7.2->en-core-web-md==3.7.1) (0.9.1)\n",
      "Requirement already satisfied: srsly<3.0.0,>=2.4.3 in /opt/anaconda3/lib/python3.11/site-packages (from spacy<3.8.0,>=3.7.2->en-core-web-md==3.7.1) (2.4.8)\n",
      "Requirement already satisfied: catalogue<2.1.0,>=2.0.6 in /opt/anaconda3/lib/python3.11/site-packages (from spacy<3.8.0,>=3.7.2->en-core-web-md==3.7.1) (2.0.10)\n",
      "Requirement already satisfied: weasel<0.5.0,>=0.1.0 in /opt/anaconda3/lib/python3.11/site-packages (from spacy<3.8.0,>=3.7.2->en-core-web-md==3.7.1) (0.4.1)\n",
      "Requirement already satisfied: typer<1.0.0,>=0.3.0 in /opt/anaconda3/lib/python3.11/site-packages (from spacy<3.8.0,>=3.7.2->en-core-web-md==3.7.1) (0.9.0)\n",
      "Requirement already satisfied: tqdm<5.0.0,>=4.38.0 in /opt/anaconda3/lib/python3.11/site-packages (from spacy<3.8.0,>=3.7.2->en-core-web-md==3.7.1) (4.66.5)\n",
      "Requirement already satisfied: requests<3.0.0,>=2.13.0 in /opt/anaconda3/lib/python3.11/site-packages (from spacy<3.8.0,>=3.7.2->en-core-web-md==3.7.1) (2.32.3)\n",
      "Requirement already satisfied: pydantic!=1.8,!=1.8.1,<3.0.0,>=1.7.4 in /opt/anaconda3/lib/python3.11/site-packages (from spacy<3.8.0,>=3.7.2->en-core-web-md==3.7.1) (2.8.2)\n",
      "Requirement already satisfied: jinja2 in /opt/anaconda3/lib/python3.11/site-packages (from spacy<3.8.0,>=3.7.2->en-core-web-md==3.7.1) (3.1.4)\n",
      "Requirement already satisfied: setuptools in /opt/anaconda3/lib/python3.11/site-packages (from spacy<3.8.0,>=3.7.2->en-core-web-md==3.7.1) (72.1.0)\n",
      "Requirement already satisfied: packaging>=20.0 in /opt/anaconda3/lib/python3.11/site-packages (from spacy<3.8.0,>=3.7.2->en-core-web-md==3.7.1) (24.1)\n",
      "Requirement already satisfied: langcodes<4.0.0,>=3.2.0 in /opt/anaconda3/lib/python3.11/site-packages (from spacy<3.8.0,>=3.7.2->en-core-web-md==3.7.1) (3.4.1)\n",
      "Requirement already satisfied: numpy>=1.19.0 in /opt/anaconda3/lib/python3.11/site-packages (from spacy<3.8.0,>=3.7.2->en-core-web-md==3.7.1) (1.26.4)\n",
      "Requirement already satisfied: language-data>=1.2 in /opt/anaconda3/lib/python3.11/site-packages (from langcodes<4.0.0,>=3.2.0->spacy<3.8.0,>=3.7.2->en-core-web-md==3.7.1) (1.2.0)\n",
      "Requirement already satisfied: annotated-types>=0.4.0 in /opt/anaconda3/lib/python3.11/site-packages (from pydantic!=1.8,!=1.8.1,<3.0.0,>=1.7.4->spacy<3.8.0,>=3.7.2->en-core-web-md==3.7.1) (0.6.0)\n",
      "Requirement already satisfied: pydantic-core==2.20.1 in /opt/anaconda3/lib/python3.11/site-packages (from pydantic!=1.8,!=1.8.1,<3.0.0,>=1.7.4->spacy<3.8.0,>=3.7.2->en-core-web-md==3.7.1) (2.20.1)\n",
      "Requirement already satisfied: typing-extensions>=4.6.1 in /opt/anaconda3/lib/python3.11/site-packages (from pydantic!=1.8,!=1.8.1,<3.0.0,>=1.7.4->spacy<3.8.0,>=3.7.2->en-core-web-md==3.7.1) (4.11.0)\n",
      "Requirement already satisfied: charset-normalizer<4,>=2 in /opt/anaconda3/lib/python3.11/site-packages (from requests<3.0.0,>=2.13.0->spacy<3.8.0,>=3.7.2->en-core-web-md==3.7.1) (3.3.2)\n",
      "Requirement already satisfied: idna<4,>=2.5 in /opt/anaconda3/lib/python3.11/site-packages (from requests<3.0.0,>=2.13.0->spacy<3.8.0,>=3.7.2->en-core-web-md==3.7.1) (3.7)\n",
      "Requirement already satisfied: urllib3<3,>=1.21.1 in /opt/anaconda3/lib/python3.11/site-packages (from requests<3.0.0,>=2.13.0->spacy<3.8.0,>=3.7.2->en-core-web-md==3.7.1) (2.2.3)\n",
      "Requirement already satisfied: certifi>=2017.4.17 in /opt/anaconda3/lib/python3.11/site-packages (from requests<3.0.0,>=2.13.0->spacy<3.8.0,>=3.7.2->en-core-web-md==3.7.1) (2024.8.30)\n",
      "Requirement already satisfied: blis<0.8.0,>=0.7.8 in /opt/anaconda3/lib/python3.11/site-packages (from thinc<8.3.0,>=8.2.2->spacy<3.8.0,>=3.7.2->en-core-web-md==3.7.1) (0.7.9)\n",
      "Requirement already satisfied: confection<1.0.0,>=0.0.1 in /opt/anaconda3/lib/python3.11/site-packages (from thinc<8.3.0,>=8.2.2->spacy<3.8.0,>=3.7.2->en-core-web-md==3.7.1) (0.1.4)\n",
      "Requirement already satisfied: click<9.0.0,>=7.1.1 in /opt/anaconda3/lib/python3.11/site-packages (from typer<1.0.0,>=0.3.0->spacy<3.8.0,>=3.7.2->en-core-web-md==3.7.1) (8.1.7)\n",
      "Requirement already satisfied: cloudpathlib<1.0.0,>=0.7.0 in /opt/anaconda3/lib/python3.11/site-packages (from weasel<0.5.0,>=0.1.0->spacy<3.8.0,>=3.7.2->en-core-web-md==3.7.1) (0.19.0)\n",
      "Requirement already satisfied: smart-open<8.0.0,>=5.2.1 in /opt/anaconda3/lib/python3.11/site-packages (from weasel<0.5.0,>=0.1.0->spacy<3.8.0,>=3.7.2->en-core-web-md==3.7.1) (5.2.1)\n",
      "Requirement already satisfied: MarkupSafe>=2.0 in /opt/anaconda3/lib/python3.11/site-packages (from jinja2->spacy<3.8.0,>=3.7.2->en-core-web-md==3.7.1) (2.1.3)\n",
      "Requirement already satisfied: marisa-trie>=0.7.7 in /opt/anaconda3/lib/python3.11/site-packages (from language-data>=1.2->langcodes<4.0.0,>=3.2.0->spacy<3.8.0,>=3.7.2->en-core-web-md==3.7.1) (1.2.0)\n",
      "\u001b[38;5;2m✔ Download and installation successful\u001b[0m\n",
      "You can now load the package via spacy.load('en_core_web_md')\n",
      "\u001b[38;5;3m⚠ Restart to reload dependencies\u001b[0m\n",
      "If you are in a Jupyter or Colab notebook, you may need to restart Python in\n",
      "order to load all the package's dependencies. You can do this by selecting the\n",
      "'Restart kernel' or 'Restart runtime' option.\n"
     ]
    }
   ],
   "source": [
    "#download pretrained pipeline package\n",
    "\n",
    "spacy.cli.download(\"en_core_web_md\")"
   ]
  },
  {
   "cell_type": "markdown",
   "id": "ab894d40-2219-4b30-845b-6ed0d43e6c60",
   "metadata": {},
   "source": [
    "### Load Dataset"
   ]
  },
  {
   "cell_type": "code",
   "execution_count": 5,
   "id": "1b677672-677e-4875-9455-3ff3f4faad5f",
   "metadata": {},
   "outputs": [
    {
     "data": {
      "text/html": [
       "<div>\n",
       "<style scoped>\n",
       "    .dataframe tbody tr th:only-of-type {\n",
       "        vertical-align: middle;\n",
       "    }\n",
       "\n",
       "    .dataframe tbody tr th {\n",
       "        vertical-align: top;\n",
       "    }\n",
       "\n",
       "    .dataframe thead th {\n",
       "        text-align: right;\n",
       "    }\n",
       "</style>\n",
       "<table border=\"1\" class=\"dataframe\">\n",
       "  <thead>\n",
       "    <tr style=\"text-align: right;\">\n",
       "      <th></th>\n",
       "      <th>post_id</th>\n",
       "      <th>title</th>\n",
       "      <th>content</th>\n",
       "      <th>created_utc</th>\n",
       "      <th>subreddit</th>\n",
       "      <th>comments</th>\n",
       "    </tr>\n",
       "  </thead>\n",
       "  <tbody>\n",
       "    <tr>\n",
       "      <th>0</th>\n",
       "      <td>1fzfb8t</td>\n",
       "      <td>Will Trump or Kamala Harris win key swing stat...</td>\n",
       "      <td>NaN</td>\n",
       "      <td>1.728435e+09</td>\n",
       "      <td>technology</td>\n",
       "      <td>['I asked AI how to clean a cast iron pan and ...</td>\n",
       "    </tr>\n",
       "    <tr>\n",
       "      <th>1</th>\n",
       "      <td>1fyxmo4</td>\n",
       "      <td>Nobel Prize in physics awarded to 2 scientists...</td>\n",
       "      <td>NaN</td>\n",
       "      <td>1.728387e+09</td>\n",
       "      <td>technology</td>\n",
       "      <td>[]</td>\n",
       "    </tr>\n",
       "    <tr>\n",
       "      <th>2</th>\n",
       "      <td>1fz0m72</td>\n",
       "      <td>Adobe has a new tool to protect artists’ work ...</td>\n",
       "      <td>NaN</td>\n",
       "      <td>1.728396e+09</td>\n",
       "      <td>technology</td>\n",
       "      <td>['The irony... Adobe stole from, pardon \"opted...</td>\n",
       "    </tr>\n",
       "    <tr>\n",
       "      <th>3</th>\n",
       "      <td>1fc2c3m</td>\n",
       "      <td>Stellantis And Tesla Hit Rock Bottom In CR’s U...</td>\n",
       "      <td>NaN</td>\n",
       "      <td>1.725814e+09</td>\n",
       "      <td>technology</td>\n",
       "      <td>['How can Stellantis (Chrysler/Jeep/Ram) hit r...</td>\n",
       "    </tr>\n",
       "    <tr>\n",
       "      <th>4</th>\n",
       "      <td>1fc2ufg</td>\n",
       "      <td>Analysis of thousands of channels reveals Tele...</td>\n",
       "      <td>NaN</td>\n",
       "      <td>1.725816e+09</td>\n",
       "      <td>technology</td>\n",
       "      <td>['Funny part, these days Telegram is the only ...</td>\n",
       "    </tr>\n",
       "  </tbody>\n",
       "</table>\n",
       "</div>"
      ],
      "text/plain": [
       "   post_id                                              title content  \\\n",
       "0  1fzfb8t  Will Trump or Kamala Harris win key swing stat...     NaN   \n",
       "1  1fyxmo4  Nobel Prize in physics awarded to 2 scientists...     NaN   \n",
       "2  1fz0m72  Adobe has a new tool to protect artists’ work ...     NaN   \n",
       "3  1fc2c3m  Stellantis And Tesla Hit Rock Bottom In CR’s U...     NaN   \n",
       "4  1fc2ufg  Analysis of thousands of channels reveals Tele...     NaN   \n",
       "\n",
       "    created_utc   subreddit                                           comments  \n",
       "0  1.728435e+09  technology  ['I asked AI how to clean a cast iron pan and ...  \n",
       "1  1.728387e+09  technology                                                 []  \n",
       "2  1.728396e+09  technology  ['The irony... Adobe stole from, pardon \"opted...  \n",
       "3  1.725814e+09  technology  ['How can Stellantis (Chrysler/Jeep/Ram) hit r...  \n",
       "4  1.725816e+09  technology  ['Funny part, these days Telegram is the only ...  "
      ]
     },
     "execution_count": 5,
     "metadata": {},
     "output_type": "execute_result"
    }
   ],
   "source": [
    "data = pd.read_csv('../data/reddit_posts_comments.csv')\n",
    "data.head()"
   ]
  },
  {
   "cell_type": "markdown",
   "id": "bccb45eb-5a45-4e5a-b163-c08c3a704e4f",
   "metadata": {},
   "source": [
    "## Data Cleaning"
   ]
  },
  {
   "cell_type": "code",
   "execution_count": 7,
   "id": "d567ee92-c8aa-4ce8-86f8-72f413073e81",
   "metadata": {},
   "outputs": [
    {
     "data": {
      "text/plain": [
       "Index(['post_id', 'title', 'content', 'created_utc', 'subreddit', 'comments'], dtype='object')"
      ]
     },
     "execution_count": 7,
     "metadata": {},
     "output_type": "execute_result"
    }
   ],
   "source": [
    "data.columns"
   ]
  },
  {
   "cell_type": "code",
   "execution_count": 8,
   "id": "b73181af-d222-4b06-8bca-2d7dec5656e3",
   "metadata": {},
   "outputs": [
    {
     "data": {
      "text/plain": [
       "(8306, 6)"
      ]
     },
     "execution_count": 8,
     "metadata": {},
     "output_type": "execute_result"
    }
   ],
   "source": [
    "data.shape"
   ]
  },
  {
   "cell_type": "code",
   "execution_count": 9,
   "id": "a4159b1e-2e7c-40ed-b5c9-ed154dc5aefe",
   "metadata": {},
   "outputs": [
    {
     "name": "stdout",
     "output_type": "stream",
     "text": [
      "<class 'pandas.core.frame.DataFrame'>\n",
      "RangeIndex: 8306 entries, 0 to 8305\n",
      "Data columns (total 6 columns):\n",
      " #   Column       Non-Null Count  Dtype  \n",
      "---  ------       --------------  -----  \n",
      " 0   post_id      8306 non-null   object \n",
      " 1   title        8306 non-null   object \n",
      " 2   content      119 non-null    object \n",
      " 3   created_utc  8306 non-null   float64\n",
      " 4   subreddit    8306 non-null   object \n",
      " 5   comments     8306 non-null   object \n",
      "dtypes: float64(1), object(5)\n",
      "memory usage: 389.5+ KB\n"
     ]
    }
   ],
   "source": [
    "data.info()"
   ]
  },
  {
   "cell_type": "code",
   "execution_count": 10,
   "id": "a1265a92-636c-47a1-b5ed-a303046aad7c",
   "metadata": {},
   "outputs": [
    {
     "data": {
      "text/plain": [
       "post_id           0\n",
       "title             0\n",
       "content        8187\n",
       "created_utc       0\n",
       "subreddit         0\n",
       "comments          0\n",
       "dtype: int64"
      ]
     },
     "execution_count": 10,
     "metadata": {},
     "output_type": "execute_result"
    }
   ],
   "source": [
    "data.isna().sum()"
   ]
  },
  {
   "cell_type": "markdown",
   "id": "b3d81150-3e2b-4e77-9199-2826fc9c3ce9",
   "metadata": {},
   "source": [
    "it turns out most of the  Reddit posts, consist only of titles with links or short statements, rather than full body text or detailed explanations. Therefore, we can drop the content column"
   ]
  },
  {
   "cell_type": "code",
   "execution_count": 12,
   "id": "1c46279b-896f-4c8a-bc24-060e353136d7",
   "metadata": {},
   "outputs": [
    {
     "data": {
      "text/html": [
       "<div>\n",
       "<style scoped>\n",
       "    .dataframe tbody tr th:only-of-type {\n",
       "        vertical-align: middle;\n",
       "    }\n",
       "\n",
       "    .dataframe tbody tr th {\n",
       "        vertical-align: top;\n",
       "    }\n",
       "\n",
       "    .dataframe thead th {\n",
       "        text-align: right;\n",
       "    }\n",
       "</style>\n",
       "<table border=\"1\" class=\"dataframe\">\n",
       "  <thead>\n",
       "    <tr style=\"text-align: right;\">\n",
       "      <th></th>\n",
       "      <th>post_id</th>\n",
       "      <th>title</th>\n",
       "      <th>created_utc</th>\n",
       "      <th>subreddit</th>\n",
       "      <th>comments</th>\n",
       "    </tr>\n",
       "  </thead>\n",
       "  <tbody>\n",
       "    <tr>\n",
       "      <th>0</th>\n",
       "      <td>1fzfb8t</td>\n",
       "      <td>Will Trump or Kamala Harris win key swing stat...</td>\n",
       "      <td>1.728435e+09</td>\n",
       "      <td>technology</td>\n",
       "      <td>['I asked AI how to clean a cast iron pan and ...</td>\n",
       "    </tr>\n",
       "    <tr>\n",
       "      <th>1</th>\n",
       "      <td>1fyxmo4</td>\n",
       "      <td>Nobel Prize in physics awarded to 2 scientists...</td>\n",
       "      <td>1.728387e+09</td>\n",
       "      <td>technology</td>\n",
       "      <td>[]</td>\n",
       "    </tr>\n",
       "    <tr>\n",
       "      <th>2</th>\n",
       "      <td>1fz0m72</td>\n",
       "      <td>Adobe has a new tool to protect artists’ work ...</td>\n",
       "      <td>1.728396e+09</td>\n",
       "      <td>technology</td>\n",
       "      <td>['The irony... Adobe stole from, pardon \"opted...</td>\n",
       "    </tr>\n",
       "    <tr>\n",
       "      <th>3</th>\n",
       "      <td>1fc2c3m</td>\n",
       "      <td>Stellantis And Tesla Hit Rock Bottom In CR’s U...</td>\n",
       "      <td>1.725814e+09</td>\n",
       "      <td>technology</td>\n",
       "      <td>['How can Stellantis (Chrysler/Jeep/Ram) hit r...</td>\n",
       "    </tr>\n",
       "    <tr>\n",
       "      <th>4</th>\n",
       "      <td>1fc2ufg</td>\n",
       "      <td>Analysis of thousands of channels reveals Tele...</td>\n",
       "      <td>1.725816e+09</td>\n",
       "      <td>technology</td>\n",
       "      <td>['Funny part, these days Telegram is the only ...</td>\n",
       "    </tr>\n",
       "  </tbody>\n",
       "</table>\n",
       "</div>"
      ],
      "text/plain": [
       "   post_id                                              title   created_utc  \\\n",
       "0  1fzfb8t  Will Trump or Kamala Harris win key swing stat...  1.728435e+09   \n",
       "1  1fyxmo4  Nobel Prize in physics awarded to 2 scientists...  1.728387e+09   \n",
       "2  1fz0m72  Adobe has a new tool to protect artists’ work ...  1.728396e+09   \n",
       "3  1fc2c3m  Stellantis And Tesla Hit Rock Bottom In CR’s U...  1.725814e+09   \n",
       "4  1fc2ufg  Analysis of thousands of channels reveals Tele...  1.725816e+09   \n",
       "\n",
       "    subreddit                                           comments  \n",
       "0  technology  ['I asked AI how to clean a cast iron pan and ...  \n",
       "1  technology                                                 []  \n",
       "2  technology  ['The irony... Adobe stole from, pardon \"opted...  \n",
       "3  technology  ['How can Stellantis (Chrysler/Jeep/Ram) hit r...  \n",
       "4  technology  ['Funny part, these days Telegram is the only ...  "
      ]
     },
     "execution_count": 12,
     "metadata": {},
     "output_type": "execute_result"
    }
   ],
   "source": [
    "#drop content column \n",
    "data.drop(columns= 'content',inplace=True)\n",
    "data.head()"
   ]
  },
  {
   "cell_type": "code",
   "execution_count": 13,
   "id": "89414a02-db7f-46d7-a016-56a9f5080984",
   "metadata": {
    "scrolled": true
   },
   "outputs": [
    {
     "data": {
      "text/html": [
       "<div>\n",
       "<style scoped>\n",
       "    .dataframe tbody tr th:only-of-type {\n",
       "        vertical-align: middle;\n",
       "    }\n",
       "\n",
       "    .dataframe tbody tr th {\n",
       "        vertical-align: top;\n",
       "    }\n",
       "\n",
       "    .dataframe thead th {\n",
       "        text-align: right;\n",
       "    }\n",
       "</style>\n",
       "<table border=\"1\" class=\"dataframe\">\n",
       "  <thead>\n",
       "    <tr style=\"text-align: right;\">\n",
       "      <th></th>\n",
       "      <th>post_id</th>\n",
       "      <th>title</th>\n",
       "      <th>created_utc</th>\n",
       "      <th>subreddit</th>\n",
       "      <th>comments</th>\n",
       "    </tr>\n",
       "  </thead>\n",
       "  <tbody>\n",
       "    <tr>\n",
       "      <th>0</th>\n",
       "      <td>1fzfb8t</td>\n",
       "      <td>Will Trump or Kamala Harris win key swing stat...</td>\n",
       "      <td>2024-10-09 00:45:16</td>\n",
       "      <td>technology</td>\n",
       "      <td>['I asked AI how to clean a cast iron pan and ...</td>\n",
       "    </tr>\n",
       "    <tr>\n",
       "      <th>1</th>\n",
       "      <td>1fyxmo4</td>\n",
       "      <td>Nobel Prize in physics awarded to 2 scientists...</td>\n",
       "      <td>2024-10-08 11:37:11</td>\n",
       "      <td>technology</td>\n",
       "      <td>[]</td>\n",
       "    </tr>\n",
       "    <tr>\n",
       "      <th>2</th>\n",
       "      <td>1fz0m72</td>\n",
       "      <td>Adobe has a new tool to protect artists’ work ...</td>\n",
       "      <td>2024-10-08 14:05:54</td>\n",
       "      <td>technology</td>\n",
       "      <td>['The irony... Adobe stole from, pardon \"opted...</td>\n",
       "    </tr>\n",
       "    <tr>\n",
       "      <th>3</th>\n",
       "      <td>1fc2c3m</td>\n",
       "      <td>Stellantis And Tesla Hit Rock Bottom In CR’s U...</td>\n",
       "      <td>2024-09-08 16:50:16</td>\n",
       "      <td>technology</td>\n",
       "      <td>['How can Stellantis (Chrysler/Jeep/Ram) hit r...</td>\n",
       "    </tr>\n",
       "    <tr>\n",
       "      <th>4</th>\n",
       "      <td>1fc2ufg</td>\n",
       "      <td>Analysis of thousands of channels reveals Tele...</td>\n",
       "      <td>2024-09-08 17:12:16</td>\n",
       "      <td>technology</td>\n",
       "      <td>['Funny part, these days Telegram is the only ...</td>\n",
       "    </tr>\n",
       "  </tbody>\n",
       "</table>\n",
       "</div>"
      ],
      "text/plain": [
       "   post_id                                              title  \\\n",
       "0  1fzfb8t  Will Trump or Kamala Harris win key swing stat...   \n",
       "1  1fyxmo4  Nobel Prize in physics awarded to 2 scientists...   \n",
       "2  1fz0m72  Adobe has a new tool to protect artists’ work ...   \n",
       "3  1fc2c3m  Stellantis And Tesla Hit Rock Bottom In CR’s U...   \n",
       "4  1fc2ufg  Analysis of thousands of channels reveals Tele...   \n",
       "\n",
       "          created_utc   subreddit  \\\n",
       "0 2024-10-09 00:45:16  technology   \n",
       "1 2024-10-08 11:37:11  technology   \n",
       "2 2024-10-08 14:05:54  technology   \n",
       "3 2024-09-08 16:50:16  technology   \n",
       "4 2024-09-08 17:12:16  technology   \n",
       "\n",
       "                                            comments  \n",
       "0  ['I asked AI how to clean a cast iron pan and ...  \n",
       "1                                                 []  \n",
       "2  ['The irony... Adobe stole from, pardon \"opted...  \n",
       "3  ['How can Stellantis (Chrysler/Jeep/Ram) hit r...  \n",
       "4  ['Funny part, these days Telegram is the only ...  "
      ]
     },
     "execution_count": 13,
     "metadata": {},
     "output_type": "execute_result"
    }
   ],
   "source": [
    "#change the created utc to readable date format\n",
    "data['created_utc'] = pd.to_datetime(data['created_utc'], unit='s')\n",
    "data.head()"
   ]
  },
  {
   "cell_type": "code",
   "execution_count": 14,
   "id": "d9d7a35f-7cf2-4fa2-b4fb-c6ed45b0786a",
   "metadata": {},
   "outputs": [
    {
     "data": {
      "text/plain": [
       "8306"
      ]
     },
     "execution_count": 14,
     "metadata": {},
     "output_type": "execute_result"
    }
   ],
   "source": [
    "#check for duplicates\n",
    "data['post_id'].nunique()#which is same as the number of observations in the dataset\n"
   ]
  },
  {
   "cell_type": "code",
   "execution_count": 15,
   "id": "d624c1a0-eac0-4373-872a-0a98e4acd650",
   "metadata": {},
   "outputs": [
    {
     "data": {
      "text/plain": [
       "subreddit\n",
       "technology    5143\n",
       "gadgets       3163\n",
       "Name: count, dtype: int64"
      ]
     },
     "execution_count": 15,
     "metadata": {},
     "output_type": "execute_result"
    }
   ],
   "source": [
    "data['subreddit'].value_counts()"
   ]
  },
  {
   "cell_type": "code",
   "execution_count": 55,
   "id": "70702f31-bfc9-4dbd-ae4c-e2284a62203b",
   "metadata": {},
   "outputs": [
    {
     "data": {
      "image/png": "[encoded data removed]",
      "text/plain": [
       "<Figure size 800x500 with 1 Axes>"
      ]
     },
     "metadata": {},
     "output_type": "display_data"
    }
   ],
   "source": [
    "\n",
    "data['title_length'] = data['title'].apply(len)\n",
    "\n",
    "# calculate the average title length per subreddit\n",
    "avg_title_length_per_subreddit = data.groupby('subreddit')['title_length'].mean().reset_index()\n",
    "\n",
    "plt.figure(figsize=(8, 5))\n",
    "data['subreddit'].value_counts().plot(kind='bar')\n",
    "plt.title('Distribution of Posts by Subreddit', fontsize=14)\n",
    "plt.xlabel('Subreddit', fontsize=12)\n",
    "plt.ylabel('Number of Posts', fontsize=12)\n",
    "plt.xticks(rotation=0)\n",
    "plt.savefig('../img/Distribution_of_Posts.png')\n"
   ]
  },
  {
   "cell_type": "markdown",
   "id": "ffe56a55-ecfc-4f97-9305-0c8eb9384eb9",
   "metadata": {},
   "source": [
    "The bar chart above shows the distribution of posts across the two subreddits. technology has more posts compared to gadgets."
   ]
  },
  {
   "cell_type": "code",
   "execution_count": 18,
   "id": "16152293-92eb-4af4-8678-639e1dbdaec5",
   "metadata": {},
   "outputs": [
    {
     "data": {
      "image/png": "[encoded data removed]",
      "text/plain": [
       "<Figure size 800x500 with 1 Axes>"
      ]
     },
     "metadata": {},
     "output_type": "display_data"
    }
   ],
   "source": [
    "\n",
    "# calculate average title length per subreddit\n",
    "data['title_length'] = data['title'].apply(len)\n",
    "avg_title_length_per_subreddit = data.groupby('subreddit')['title_length'].mean()\n",
    "\n",
    "plt.figure(figsize=(8, 5))\n",
    "avg_title_length_per_subreddit.plot(kind='bar')\n",
    "plt.title('Average Title Length per Subreddit', fontsize=14)\n",
    "plt.xlabel('Subreddit', fontsize=12)\n",
    "plt.ylabel('Average Title Length', fontsize=12)\n",
    "plt.xticks(rotation=0);\n"
   ]
  },
  {
   "cell_type": "markdown",
   "id": "42ad7388-36dd-4972-b4bf-e7c77f1690c3",
   "metadata": {},
   "source": [
    "## Data Processing"
   ]
  },
  {
   "cell_type": "code",
   "execution_count": 20,
   "id": "65dff3c0-6cf3-480b-adde-4569184bd384",
   "metadata": {},
   "outputs": [],
   "source": [
    "\n",
    "#load medium pipeline\n",
    "nlp = spacy.load('en_core_web_md')"
   ]
  },
  {
   "cell_type": "code",
   "execution_count": 21,
   "id": "7764345e-d83b-49e7-a240-bfaa6d3e0f1c",
   "metadata": {},
   "outputs": [],
   "source": [
    "\n",
    "def clean_text(text):\n",
    "    # remove URLs, emoticons, HTML tags, and entities \n",
    "    text = re.sub(r'http[s]?://\\S+', '', text)\n",
    "    text = re.sub(r'[:;=][\\-~]?[)(DP]', '', text)\n",
    "    text = re.sub(r'<[^>]+>', '', text)\n",
    "    text = html.unescape(text)\n",
    "\n",
    "    \n",
    "    text = text.lower()\n",
    "    text = re.sub(r'[\\d]', '', text)  # remove numbers\n",
    "    text = re.sub(r'[^\\w\\s]', '', text)  # remove punctuation\n",
    "\n",
    "    # tokenize, remove stop words, and lemmatize using SpaCy\n",
    "    doc = nlp(text)\n",
    "    clean_tokens = [token.lemma_ for token in doc if token.is_alpha and token.text not in STOP_WORDS]\n",
    "\n",
    "    return ' '.join(clean_tokens)\n"
   ]
  },
  {
   "cell_type": "code",
   "execution_count": 22,
   "id": "9bcc3799-50e4-4aa0-bc49-68670d4159b0",
   "metadata": {},
   "outputs": [
    {
     "data": {
      "text/html": [
       "<div>\n",
       "<style scoped>\n",
       "    .dataframe tbody tr th:only-of-type {\n",
       "        vertical-align: middle;\n",
       "    }\n",
       "\n",
       "    .dataframe tbody tr th {\n",
       "        vertical-align: top;\n",
       "    }\n",
       "\n",
       "    .dataframe thead th {\n",
       "        text-align: right;\n",
       "    }\n",
       "</style>\n",
       "<table border=\"1\" class=\"dataframe\">\n",
       "  <thead>\n",
       "    <tr style=\"text-align: right;\">\n",
       "      <th></th>\n",
       "      <th>post_id</th>\n",
       "      <th>title</th>\n",
       "      <th>created_utc</th>\n",
       "      <th>subreddit</th>\n",
       "      <th>comments</th>\n",
       "      <th>title_length</th>\n",
       "      <th>processed_title</th>\n",
       "      <th>processed_comments</th>\n",
       "    </tr>\n",
       "  </thead>\n",
       "  <tbody>\n",
       "    <tr>\n",
       "      <th>0</th>\n",
       "      <td>1fzfb8t</td>\n",
       "      <td>Will Trump or Kamala Harris win key swing stat...</td>\n",
       "      <td>2024-10-09 00:45:16</td>\n",
       "      <td>technology</td>\n",
       "      <td>['I asked AI how to clean a cast iron pan and ...</td>\n",
       "      <td>72</td>\n",
       "      <td>trump kamala harris win key swing state ask ch...</td>\n",
       "      <td>ask ai clean cast iron pan tell mix bleach amm...</td>\n",
       "    </tr>\n",
       "    <tr>\n",
       "      <th>1</th>\n",
       "      <td>1fyxmo4</td>\n",
       "      <td>Nobel Prize in physics awarded to 2 scientists...</td>\n",
       "      <td>2024-10-08 11:37:11</td>\n",
       "      <td>technology</td>\n",
       "      <td>[]</td>\n",
       "      <td>99</td>\n",
       "      <td>nobel prize physics award scientist discovery ...</td>\n",
       "      <td></td>\n",
       "    </tr>\n",
       "    <tr>\n",
       "      <th>2</th>\n",
       "      <td>1fz0m72</td>\n",
       "      <td>Adobe has a new tool to protect artists’ work ...</td>\n",
       "      <td>2024-10-08 14:05:54</td>\n",
       "      <td>technology</td>\n",
       "      <td>['The irony... Adobe stole from, pardon \"opted...</td>\n",
       "      <td>53</td>\n",
       "      <td>adobe new tool protect artist work ai</td>\n",
       "      <td>irony adobe steal pardon opt creative datum gr...</td>\n",
       "    </tr>\n",
       "    <tr>\n",
       "      <th>3</th>\n",
       "      <td>1fc2c3m</td>\n",
       "      <td>Stellantis And Tesla Hit Rock Bottom In CR’s U...</td>\n",
       "      <td>2024-09-08 16:50:16</td>\n",
       "      <td>technology</td>\n",
       "      <td>['How can Stellantis (Chrysler/Jeep/Ram) hit r...</td>\n",
       "      <td>80</td>\n",
       "      <td>stellantis tesla hit rock crs car brand reliab...</td>\n",
       "      <td>stellantis chryslerjeepram hit rock rock delete</td>\n",
       "    </tr>\n",
       "    <tr>\n",
       "      <th>4</th>\n",
       "      <td>1fc2ufg</td>\n",
       "      <td>Analysis of thousands of channels reveals Tele...</td>\n",
       "      <td>2024-09-08 17:12:16</td>\n",
       "      <td>technology</td>\n",
       "      <td>['Funny part, these days Telegram is the only ...</td>\n",
       "      <td>85</td>\n",
       "      <td>analysis thousand channel reveal telegram floo...</td>\n",
       "      <td>funny day telegram widely message platform end...</td>\n",
       "    </tr>\n",
       "  </tbody>\n",
       "</table>\n",
       "</div>"
      ],
      "text/plain": [
       "   post_id                                              title  \\\n",
       "0  1fzfb8t  Will Trump or Kamala Harris win key swing stat...   \n",
       "1  1fyxmo4  Nobel Prize in physics awarded to 2 scientists...   \n",
       "2  1fz0m72  Adobe has a new tool to protect artists’ work ...   \n",
       "3  1fc2c3m  Stellantis And Tesla Hit Rock Bottom In CR’s U...   \n",
       "4  1fc2ufg  Analysis of thousands of channels reveals Tele...   \n",
       "\n",
       "          created_utc   subreddit  \\\n",
       "0 2024-10-09 00:45:16  technology   \n",
       "1 2024-10-08 11:37:11  technology   \n",
       "2 2024-10-08 14:05:54  technology   \n",
       "3 2024-09-08 16:50:16  technology   \n",
       "4 2024-09-08 17:12:16  technology   \n",
       "\n",
       "                                            comments  title_length  \\\n",
       "0  ['I asked AI how to clean a cast iron pan and ...            72   \n",
       "1                                                 []            99   \n",
       "2  ['The irony... Adobe stole from, pardon \"opted...            53   \n",
       "3  ['How can Stellantis (Chrysler/Jeep/Ram) hit r...            80   \n",
       "4  ['Funny part, these days Telegram is the only ...            85   \n",
       "\n",
       "                                     processed_title  \\\n",
       "0  trump kamala harris win key swing state ask ch...   \n",
       "1  nobel prize physics award scientist discovery ...   \n",
       "2              adobe new tool protect artist work ai   \n",
       "3  stellantis tesla hit rock crs car brand reliab...   \n",
       "4  analysis thousand channel reveal telegram floo...   \n",
       "\n",
       "                                  processed_comments  \n",
       "0  ask ai clean cast iron pan tell mix bleach amm...  \n",
       "1                                                     \n",
       "2  irony adobe steal pardon opt creative datum gr...  \n",
       "3    stellantis chryslerjeepram hit rock rock delete  \n",
       "4  funny day telegram widely message platform end...  "
      ]
     },
     "execution_count": 22,
     "metadata": {},
     "output_type": "execute_result"
    }
   ],
   "source": [
    "#preprocess title\n",
    "data['processed_title'] = data['title'].apply(lambda x: clean_text(x))\n",
    "# preprocess comments\n",
    "data['processed_comments'] = data['comments'].apply(clean_text)\n",
    "\n",
    "data.head()\n"
   ]
  },
  {
   "cell_type": "code",
   "execution_count": 23,
   "id": "add48e14-6538-442a-812a-ca2f51c71f0b",
   "metadata": {},
   "outputs": [
    {
     "data": {
      "text/html": [
       "<div>\n",
       "<style scoped>\n",
       "    .dataframe tbody tr th:only-of-type {\n",
       "        vertical-align: middle;\n",
       "    }\n",
       "\n",
       "    .dataframe tbody tr th {\n",
       "        vertical-align: top;\n",
       "    }\n",
       "\n",
       "    .dataframe thead th {\n",
       "        text-align: right;\n",
       "    }\n",
       "</style>\n",
       "<table border=\"1\" class=\"dataframe\">\n",
       "  <thead>\n",
       "    <tr style=\"text-align: right;\">\n",
       "      <th></th>\n",
       "      <th>post_id</th>\n",
       "      <th>title</th>\n",
       "      <th>created_utc</th>\n",
       "      <th>subreddit</th>\n",
       "      <th>comments</th>\n",
       "      <th>title_length</th>\n",
       "      <th>processed_title</th>\n",
       "      <th>processed_comments</th>\n",
       "      <th>processed_text</th>\n",
       "    </tr>\n",
       "  </thead>\n",
       "  <tbody>\n",
       "    <tr>\n",
       "      <th>0</th>\n",
       "      <td>1fzfb8t</td>\n",
       "      <td>Will Trump or Kamala Harris win key swing stat...</td>\n",
       "      <td>2024-10-09 00:45:16</td>\n",
       "      <td>technology</td>\n",
       "      <td>['I asked AI how to clean a cast iron pan and ...</td>\n",
       "      <td>72</td>\n",
       "      <td>trump kamala harris win key swing state ask ch...</td>\n",
       "      <td>ask ai clean cast iron pan tell mix bleach amm...</td>\n",
       "      <td>trump kamala harris win key swing state ask ch...</td>\n",
       "    </tr>\n",
       "    <tr>\n",
       "      <th>1</th>\n",
       "      <td>1fyxmo4</td>\n",
       "      <td>Nobel Prize in physics awarded to 2 scientists...</td>\n",
       "      <td>2024-10-08 11:37:11</td>\n",
       "      <td>technology</td>\n",
       "      <td>[]</td>\n",
       "      <td>99</td>\n",
       "      <td>nobel prize physics award scientist discovery ...</td>\n",
       "      <td></td>\n",
       "      <td>nobel prize physics award scientist discovery ...</td>\n",
       "    </tr>\n",
       "    <tr>\n",
       "      <th>2</th>\n",
       "      <td>1fz0m72</td>\n",
       "      <td>Adobe has a new tool to protect artists’ work ...</td>\n",
       "      <td>2024-10-08 14:05:54</td>\n",
       "      <td>technology</td>\n",
       "      <td>['The irony... Adobe stole from, pardon \"opted...</td>\n",
       "      <td>53</td>\n",
       "      <td>adobe new tool protect artist work ai</td>\n",
       "      <td>irony adobe steal pardon opt creative datum gr...</td>\n",
       "      <td>adobe new tool protect artist work ai irony ad...</td>\n",
       "    </tr>\n",
       "    <tr>\n",
       "      <th>3</th>\n",
       "      <td>1fc2c3m</td>\n",
       "      <td>Stellantis And Tesla Hit Rock Bottom In CR’s U...</td>\n",
       "      <td>2024-09-08 16:50:16</td>\n",
       "      <td>technology</td>\n",
       "      <td>['How can Stellantis (Chrysler/Jeep/Ram) hit r...</td>\n",
       "      <td>80</td>\n",
       "      <td>stellantis tesla hit rock crs car brand reliab...</td>\n",
       "      <td>stellantis chryslerjeepram hit rock rock delete</td>\n",
       "      <td>stellantis tesla hit rock crs car brand reliab...</td>\n",
       "    </tr>\n",
       "    <tr>\n",
       "      <th>4</th>\n",
       "      <td>1fc2ufg</td>\n",
       "      <td>Analysis of thousands of channels reveals Tele...</td>\n",
       "      <td>2024-09-08 17:12:16</td>\n",
       "      <td>technology</td>\n",
       "      <td>['Funny part, these days Telegram is the only ...</td>\n",
       "      <td>85</td>\n",
       "      <td>analysis thousand channel reveal telegram floo...</td>\n",
       "      <td>funny day telegram widely message platform end...</td>\n",
       "      <td>analysis thousand channel reveal telegram floo...</td>\n",
       "    </tr>\n",
       "  </tbody>\n",
       "</table>\n",
       "</div>"
      ],
      "text/plain": [
       "   post_id                                              title  \\\n",
       "0  1fzfb8t  Will Trump or Kamala Harris win key swing stat...   \n",
       "1  1fyxmo4  Nobel Prize in physics awarded to 2 scientists...   \n",
       "2  1fz0m72  Adobe has a new tool to protect artists’ work ...   \n",
       "3  1fc2c3m  Stellantis And Tesla Hit Rock Bottom In CR’s U...   \n",
       "4  1fc2ufg  Analysis of thousands of channels reveals Tele...   \n",
       "\n",
       "          created_utc   subreddit  \\\n",
       "0 2024-10-09 00:45:16  technology   \n",
       "1 2024-10-08 11:37:11  technology   \n",
       "2 2024-10-08 14:05:54  technology   \n",
       "3 2024-09-08 16:50:16  technology   \n",
       "4 2024-09-08 17:12:16  technology   \n",
       "\n",
       "                                            comments  title_length  \\\n",
       "0  ['I asked AI how to clean a cast iron pan and ...            72   \n",
       "1                                                 []            99   \n",
       "2  ['The irony... Adobe stole from, pardon \"opted...            53   \n",
       "3  ['How can Stellantis (Chrysler/Jeep/Ram) hit r...            80   \n",
       "4  ['Funny part, these days Telegram is the only ...            85   \n",
       "\n",
       "                                     processed_title  \\\n",
       "0  trump kamala harris win key swing state ask ch...   \n",
       "1  nobel prize physics award scientist discovery ...   \n",
       "2              adobe new tool protect artist work ai   \n",
       "3  stellantis tesla hit rock crs car brand reliab...   \n",
       "4  analysis thousand channel reveal telegram floo...   \n",
       "\n",
       "                                  processed_comments  \\\n",
       "0  ask ai clean cast iron pan tell mix bleach amm...   \n",
       "1                                                      \n",
       "2  irony adobe steal pardon opt creative datum gr...   \n",
       "3    stellantis chryslerjeepram hit rock rock delete   \n",
       "4  funny day telegram widely message platform end...   \n",
       "\n",
       "                                      processed_text  \n",
       "0  trump kamala harris win key swing state ask ch...  \n",
       "1  nobel prize physics award scientist discovery ...  \n",
       "2  adobe new tool protect artist work ai irony ad...  \n",
       "3  stellantis tesla hit rock crs car brand reliab...  \n",
       "4  analysis thousand channel reveal telegram floo...  "
      ]
     },
     "execution_count": 23,
     "metadata": {},
     "output_type": "execute_result"
    }
   ],
   "source": [
    "# combine the 'processed_title' and 'processed_comments' columns\n",
    "data['processed_text'] = data['processed_title'] + ' ' + data['processed_comments']\n",
    "\n",
    "data.head()\n",
    "\n"
   ]
  },
  {
   "cell_type": "code",
   "execution_count": null,
   "id": "1fbad34e-d0d5-419c-b4b4-adbeeb519eeb",
   "metadata": {},
   "outputs": [],
   "source": []
  },
  {
   "cell_type": "markdown",
   "id": "8ffa1982-e84b-449e-aa3e-017985867be4",
   "metadata": {},
   "source": [
    "## EDA:"
   ]
  },
  {
   "cell_type": "code",
   "execution_count": 25,
   "id": "7e8d3b48-2137-45f6-82ae-e8aa50a91a0d",
   "metadata": {},
   "outputs": [
    {
     "data": {
      "text/html": [
       "<div>\n",
       "<style scoped>\n",
       "    .dataframe tbody tr th:only-of-type {\n",
       "        vertical-align: middle;\n",
       "    }\n",
       "\n",
       "    .dataframe tbody tr th {\n",
       "        vertical-align: top;\n",
       "    }\n",
       "\n",
       "    .dataframe thead th {\n",
       "        text-align: right;\n",
       "    }\n",
       "</style>\n",
       "<table border=\"1\" class=\"dataframe\">\n",
       "  <thead>\n",
       "    <tr style=\"text-align: right;\">\n",
       "      <th></th>\n",
       "      <th>created_utc</th>\n",
       "      <th>title_length</th>\n",
       "    </tr>\n",
       "  </thead>\n",
       "  <tbody>\n",
       "    <tr>\n",
       "      <th>count</th>\n",
       "      <td>8306</td>\n",
       "      <td>8306.000000</td>\n",
       "    </tr>\n",
       "    <tr>\n",
       "      <th>mean</th>\n",
       "      <td>2021-05-16 01:16:18.121237760</td>\n",
       "      <td>84.583915</td>\n",
       "    </tr>\n",
       "    <tr>\n",
       "      <th>min</th>\n",
       "      <td>2008-01-15 17:55:32</td>\n",
       "      <td>4.000000</td>\n",
       "    </tr>\n",
       "    <tr>\n",
       "      <th>25%</th>\n",
       "      <td>2019-07-06 09:18:17</td>\n",
       "      <td>59.000000</td>\n",
       "    </tr>\n",
       "    <tr>\n",
       "      <th>50%</th>\n",
       "      <td>2023-11-25 16:04:46</td>\n",
       "      <td>73.000000</td>\n",
       "    </tr>\n",
       "    <tr>\n",
       "      <th>75%</th>\n",
       "      <td>2024-07-25 12:48:32.500000</td>\n",
       "      <td>96.000000</td>\n",
       "    </tr>\n",
       "    <tr>\n",
       "      <th>max</th>\n",
       "      <td>2024-10-09 13:53:18</td>\n",
       "      <td>304.000000</td>\n",
       "    </tr>\n",
       "    <tr>\n",
       "      <th>std</th>\n",
       "      <td>NaN</td>\n",
       "      <td>42.630507</td>\n",
       "    </tr>\n",
       "  </tbody>\n",
       "</table>\n",
       "</div>"
      ],
      "text/plain": [
       "                         created_utc  title_length\n",
       "count                           8306   8306.000000\n",
       "mean   2021-05-16 01:16:18.121237760     84.583915\n",
       "min              2008-01-15 17:55:32      4.000000\n",
       "25%              2019-07-06 09:18:17     59.000000\n",
       "50%              2023-11-25 16:04:46     73.000000\n",
       "75%       2024-07-25 12:48:32.500000     96.000000\n",
       "max              2024-10-09 13:53:18    304.000000\n",
       "std                              NaN     42.630507"
      ]
     },
     "execution_count": 25,
     "metadata": {},
     "output_type": "execute_result"
    }
   ],
   "source": [
    "# summary statistics for numeric columns\n",
    "summary_statistics = data.describe()\n",
    "summary_statistics"
   ]
  },
  {
   "cell_type": "code",
   "execution_count": 26,
   "id": "6f811a63-c46b-4ddd-b546-00041671cc27",
   "metadata": {},
   "outputs": [
    {
     "data": {
      "text/plain": [
       "post_id               0\n",
       "title                 0\n",
       "created_utc           0\n",
       "subreddit             0\n",
       "comments              0\n",
       "title_length          0\n",
       "processed_title       0\n",
       "processed_comments    0\n",
       "processed_text        0\n",
       "dtype: int64"
      ]
     },
     "execution_count": 26,
     "metadata": {},
     "output_type": "execute_result"
    }
   ],
   "source": [
    "data.isna().sum()"
   ]
  },
  {
   "cell_type": "code",
   "execution_count": 27,
   "id": "8cb64795-f0f6-440c-bdf9-72f7031eec9b",
   "metadata": {},
   "outputs": [
    {
     "data": {
      "image/png": "[encoded data removed]",
      "text/plain": [
       "<Figure size 1200x600 with 2 Axes>"
      ]
     },
     "metadata": {},
     "output_type": "display_data"
    }
   ],
   "source": [
    "#analyze the length of titles and comments \n",
    "# create new columns to store the length of titles and comments\n",
    "data['title_length'] = data['title'].apply(len)\n",
    "data['comments_length'] = data['comments'].apply(len)\n",
    "plt.figure(figsize=(12, 6))\n",
    "\n",
    "plt.subplot(1, 2, 1)\n",
    "plt.hist(data['title_length'], bins=30, color='skyblue')\n",
    "plt.title('Title Length Distribution', fontsize=14)\n",
    "plt.xlabel('Title Length', fontsize=12)\n",
    "plt.ylabel('Frequency', fontsize=12)\n",
    "\n",
    "plt.subplot(1, 2, 2)\n",
    "plt.hist(data['comments_length'], bins=30, color='lightgreen')\n",
    "plt.title('Comments Length Distribution', fontsize=14)\n",
    "plt.xlabel('Comments Length', fontsize=12)\n",
    "plt.ylabel('Frequency', fontsize=12)\n",
    "plt.tight_layout()\n",
    "\n"
   ]
  },
  {
   "cell_type": "markdown",
   "id": "7f556180-5267-4b40-a86a-096e2902e1b9",
   "metadata": {},
   "source": [
    " Most titles are relatively short, with many under 150 characters.The comments have a wider distribution, with many posts having longer comments, some exceeding 1,000 characters."
   ]
  },
  {
   "cell_type": "code",
   "execution_count": 29,
   "id": "43cfeaaa-cdcd-410d-bc00-69473ee1a0f0",
   "metadata": {},
   "outputs": [
    {
     "data": {
      "image/png": "[encoded data removed]",
      "text/plain": [
       "<Figure size 1500x600 with 2 Axes>"
      ]
     },
     "metadata": {},
     "output_type": "display_data"
    }
   ],
   "source": [
    "#most frequent words in the titles subreddits\n",
    "\n",
    "def get_top_n_words(subreddit, n=10):\n",
    "    # filter the data for the specific subreddit\n",
    "    subreddit_data = data[data['subreddit'] == subreddit]['processed_title']\n",
    "    \n",
    "    # CountVectorizer for the titles\n",
    "    vectorizer = CountVectorizer(stop_words='english')\n",
    "    word_counts = vectorizer.fit_transform(subreddit_data)\n",
    "    \n",
    "    # dataFrame of the word counts\n",
    "    common_words_df = pd.DataFrame(data=word_counts.toarray(), columns=vectorizer.get_feature_names_out())\n",
    "    common_words_sum = common_words_df.sum().sort_values(ascending=False)\n",
    "    return common_words_sum.head(n)\n",
    "\n",
    "#  top 10 words for technology and gadgets titles\n",
    "\n",
    "plt.figure(figsize=(15, 6))\n",
    "\n",
    "plt.subplot(1, 2, 1)\n",
    "get_top_n_words('technology').plot(kind='barh', color='skyblue')\n",
    "plt.title('Top 10 Words in technology Titles')\n",
    "plt.xlabel('Word Count')\n",
    "\n",
    "plt.subplot(1, 2, 2)\n",
    "get_top_n_words('gadgets').plot(kind='barh', color='lightgreen')\n",
    "plt.title('Top 10 Words in gadgets Titles')\n",
    "plt.xlabel('Word Count');\n",
    "\n",
    "plt.savefig('../img/Top_ten_words_in_subreddits.png')"
   ]
  },
  {
   "cell_type": "code",
   "execution_count": 30,
   "id": "fd029e95-cc30-4df9-91e8-2f1698a0e6a8",
   "metadata": {},
   "outputs": [
    {
     "data": {
      "image/png": "[encoded data removed]",
      "text/plain": [
       "<Figure size 1200x600 with 2 Axes>"
      ]
     },
     "metadata": {},
     "output_type": "display_data"
    }
   ],
   "source": [
    "#most frequent words in the comments of subreddits\n",
    "\n",
    "def get_top_n_words_comments(subreddit, n=10):\n",
    "    # filter the data for the specific subreddit\n",
    "    subreddit_data = data[data['subreddit'] == subreddit]['processed_comments']\n",
    "    \n",
    "    # CountVectorizer for the titles\n",
    "    vectorizer = CountVectorizer(stop_words='english')\n",
    "    word_counts = vectorizer.fit_transform(subreddit_data)\n",
    "    \n",
    "    # dataFrame of the word counts\n",
    "    common_words_df = pd.DataFrame(data=word_counts.toarray(), columns=vectorizer.get_feature_names_out())\n",
    "    common_words_sum = common_words_df.sum().sort_values(ascending=False)\n",
    "    return common_words_sum.head(n)\n",
    "\n",
    "#  top 10 words for technology and gadgets in comments\n",
    "\n",
    "plt.figure(figsize=(12, 6))\n",
    "\n",
    "plt.subplot(1, 2, 1)\n",
    "get_top_n_words_comments('technology').plot(kind='barh', color='skyblue')\n",
    "plt.title('Top 10 Words in Technology Comments')\n",
    "plt.xlabel('Word Count')\n",
    "\n",
    "plt.subplot(1, 2, 2)\n",
    "get_top_n_words_comments('gadgets').plot(kind='barh', color='lightgreen')\n",
    "plt.title('Top 10 Words in Gadgets Comments')\n",
    "plt.xlabel('Word Count');\n",
    "plt.tight_layout()\n"
   ]
  },
  {
   "cell_type": "code",
   "execution_count": 59,
   "id": "8fc6bc5c-2bb6-449f-a567-af975672f276",
   "metadata": {},
   "outputs": [],
   "source": [
    "## save processed dataset to csv file \n",
    "data.to_csv('../data/processed_text.csv', index=False)"
   ]
  },
  {
   "cell_type": "code",
   "execution_count": null,
   "id": "b8155910-10cd-45f2-85d6-0a4abc87c2aa",
   "metadata": {},
   "outputs": [],
   "source": []
  },
  {
   "cell_type": "code",
   "execution_count": null,
   "id": "1d75b63e-2a7e-4b3f-b0ad-4ee7622e8e80",
   "metadata": {},
   "outputs": [],
   "source": []
  }
 ],
 "metadata": {
  "kernelspec": {
   "display_name": "Python 3 (ipykernel)",
   "language": "python",
   "name": "python3"
  },
  "language_info": {
   "codemirror_mode": {
    "name": "ipython",
    "version": 3
   },
   "file_extension": ".py",
   "mimetype": "text/x-python",
   "name": "python",
   "nbconvert_exporter": "python",
   "pygments_lexer": "ipython3",
   "version": "3.11.9"
  }
 },
 "nbformat": 4,
 "nbformat_minor": 5
}
